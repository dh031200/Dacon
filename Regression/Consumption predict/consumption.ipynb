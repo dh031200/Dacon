{
 "cells": [
  {
   "cell_type": "code",
   "execution_count": 1,
   "id": "adacd5e8-e101-48b0-bd59-fe7e16289e4e",
   "metadata": {
    "pycharm": {
     "name": "#%%\n"
    }
   },
   "outputs": [],
   "source": [
    "import os\n",
    "\n",
    "import torch\n",
    "import numpy as np\n",
    "import pandas as pd\n",
    "import seaborn as sns\n",
    "from random import sample\n",
    "from torch import nn\n",
    "from torch.utils.data import TensorDataset, DataLoader\n",
    "from sklearn.preprocessing import MinMaxScaler\n",
    "from tqdm.notebook import tqdm\n",
    "import matplotlib.pyplot as plt"
   ]
  },
  {
   "cell_type": "code",
   "execution_count": 2,
   "id": "26807f6d-0ed6-4a82-9267-32fc1b4da082",
   "metadata": {
    "pycharm": {
     "name": "#%%\n"
    }
   },
   "outputs": [],
   "source": [
    "summit_name = '10th_summit_add_columns_epochs_300'"
   ]
  },
  {
   "cell_type": "code",
   "execution_count": 3,
   "id": "109be5ae-2946-4c40-a754-8670462be463",
   "metadata": {
    "pycharm": {
     "name": "#%%\n"
    }
   },
   "outputs": [
    {
     "data": {
      "text/html": [
       "<div>\n",
       "<style scoped>\n",
       "    .dataframe tbody tr th:only-of-type {\n",
       "        vertical-align: middle;\n",
       "    }\n",
       "\n",
       "    .dataframe tbody tr th {\n",
       "        vertical-align: top;\n",
       "    }\n",
       "\n",
       "    .dataframe thead th {\n",
       "        text-align: right;\n",
       "    }\n",
       "</style>\n",
       "<table border=\"1\" class=\"dataframe\">\n",
       "  <thead>\n",
       "    <tr style=\"text-align: right;\">\n",
       "      <th></th>\n",
       "      <th>Year_Birth</th>\n",
       "      <th>Education</th>\n",
       "      <th>Marital_Status</th>\n",
       "      <th>Income</th>\n",
       "      <th>Kidhome</th>\n",
       "      <th>Teenhome</th>\n",
       "      <th>Dt_Customer</th>\n",
       "      <th>Recency</th>\n",
       "      <th>NumDealsPurchases</th>\n",
       "      <th>NumWebPurchases</th>\n",
       "      <th>...</th>\n",
       "      <th>NumStorePurchases</th>\n",
       "      <th>NumWebVisitsMonth</th>\n",
       "      <th>AcceptedCmp3</th>\n",
       "      <th>AcceptedCmp4</th>\n",
       "      <th>AcceptedCmp5</th>\n",
       "      <th>AcceptedCmp1</th>\n",
       "      <th>AcceptedCmp2</th>\n",
       "      <th>Complain</th>\n",
       "      <th>Response</th>\n",
       "      <th>target</th>\n",
       "    </tr>\n",
       "    <tr>\n",
       "      <th>id</th>\n",
       "      <th></th>\n",
       "      <th></th>\n",
       "      <th></th>\n",
       "      <th></th>\n",
       "      <th></th>\n",
       "      <th></th>\n",
       "      <th></th>\n",
       "      <th></th>\n",
       "      <th></th>\n",
       "      <th></th>\n",
       "      <th></th>\n",
       "      <th></th>\n",
       "      <th></th>\n",
       "      <th></th>\n",
       "      <th></th>\n",
       "      <th></th>\n",
       "      <th></th>\n",
       "      <th></th>\n",
       "      <th></th>\n",
       "      <th></th>\n",
       "      <th></th>\n",
       "    </tr>\n",
       "  </thead>\n",
       "  <tbody>\n",
       "    <tr>\n",
       "      <th>0</th>\n",
       "      <td>1974</td>\n",
       "      <td>Master</td>\n",
       "      <td>Together</td>\n",
       "      <td>46014.0</td>\n",
       "      <td>1</td>\n",
       "      <td>1</td>\n",
       "      <td>21-01-2013</td>\n",
       "      <td>21</td>\n",
       "      <td>10</td>\n",
       "      <td>7</td>\n",
       "      <td>...</td>\n",
       "      <td>8</td>\n",
       "      <td>7</td>\n",
       "      <td>0</td>\n",
       "      <td>0</td>\n",
       "      <td>0</td>\n",
       "      <td>0</td>\n",
       "      <td>0</td>\n",
       "      <td>0</td>\n",
       "      <td>0</td>\n",
       "      <td>541</td>\n",
       "    </tr>\n",
       "    <tr>\n",
       "      <th>1</th>\n",
       "      <td>1962</td>\n",
       "      <td>Graduation</td>\n",
       "      <td>Single</td>\n",
       "      <td>76624.0</td>\n",
       "      <td>0</td>\n",
       "      <td>1</td>\n",
       "      <td>24-05-2014</td>\n",
       "      <td>68</td>\n",
       "      <td>1</td>\n",
       "      <td>5</td>\n",
       "      <td>...</td>\n",
       "      <td>7</td>\n",
       "      <td>1</td>\n",
       "      <td>1</td>\n",
       "      <td>0</td>\n",
       "      <td>0</td>\n",
       "      <td>0</td>\n",
       "      <td>0</td>\n",
       "      <td>0</td>\n",
       "      <td>0</td>\n",
       "      <td>899</td>\n",
       "    </tr>\n",
       "    <tr>\n",
       "      <th>2</th>\n",
       "      <td>1951</td>\n",
       "      <td>Graduation</td>\n",
       "      <td>Married</td>\n",
       "      <td>75903.0</td>\n",
       "      <td>0</td>\n",
       "      <td>1</td>\n",
       "      <td>08-04-2013</td>\n",
       "      <td>50</td>\n",
       "      <td>2</td>\n",
       "      <td>6</td>\n",
       "      <td>...</td>\n",
       "      <td>9</td>\n",
       "      <td>3</td>\n",
       "      <td>0</td>\n",
       "      <td>0</td>\n",
       "      <td>0</td>\n",
       "      <td>0</td>\n",
       "      <td>0</td>\n",
       "      <td>0</td>\n",
       "      <td>0</td>\n",
       "      <td>901</td>\n",
       "    </tr>\n",
       "    <tr>\n",
       "      <th>3</th>\n",
       "      <td>1974</td>\n",
       "      <td>Basic</td>\n",
       "      <td>Married</td>\n",
       "      <td>18393.0</td>\n",
       "      <td>1</td>\n",
       "      <td>0</td>\n",
       "      <td>29-03-2014</td>\n",
       "      <td>2</td>\n",
       "      <td>2</td>\n",
       "      <td>3</td>\n",
       "      <td>...</td>\n",
       "      <td>3</td>\n",
       "      <td>8</td>\n",
       "      <td>0</td>\n",
       "      <td>0</td>\n",
       "      <td>0</td>\n",
       "      <td>0</td>\n",
       "      <td>0</td>\n",
       "      <td>0</td>\n",
       "      <td>0</td>\n",
       "      <td>50</td>\n",
       "    </tr>\n",
       "    <tr>\n",
       "      <th>4</th>\n",
       "      <td>1946</td>\n",
       "      <td>PhD</td>\n",
       "      <td>Together</td>\n",
       "      <td>64014.0</td>\n",
       "      <td>2</td>\n",
       "      <td>1</td>\n",
       "      <td>10-06-2014</td>\n",
       "      <td>56</td>\n",
       "      <td>7</td>\n",
       "      <td>8</td>\n",
       "      <td>...</td>\n",
       "      <td>5</td>\n",
       "      <td>7</td>\n",
       "      <td>0</td>\n",
       "      <td>0</td>\n",
       "      <td>0</td>\n",
       "      <td>1</td>\n",
       "      <td>0</td>\n",
       "      <td>0</td>\n",
       "      <td>0</td>\n",
       "      <td>444</td>\n",
       "    </tr>\n",
       "    <tr>\n",
       "      <th>...</th>\n",
       "      <td>...</td>\n",
       "      <td>...</td>\n",
       "      <td>...</td>\n",
       "      <td>...</td>\n",
       "      <td>...</td>\n",
       "      <td>...</td>\n",
       "      <td>...</td>\n",
       "      <td>...</td>\n",
       "      <td>...</td>\n",
       "      <td>...</td>\n",
       "      <td>...</td>\n",
       "      <td>...</td>\n",
       "      <td>...</td>\n",
       "      <td>...</td>\n",
       "      <td>...</td>\n",
       "      <td>...</td>\n",
       "      <td>...</td>\n",
       "      <td>...</td>\n",
       "      <td>...</td>\n",
       "      <td>...</td>\n",
       "      <td>...</td>\n",
       "    </tr>\n",
       "    <tr>\n",
       "      <th>1103</th>\n",
       "      <td>1956</td>\n",
       "      <td>Graduation</td>\n",
       "      <td>Together</td>\n",
       "      <td>46097.0</td>\n",
       "      <td>0</td>\n",
       "      <td>1</td>\n",
       "      <td>31-03-2013</td>\n",
       "      <td>11</td>\n",
       "      <td>5</td>\n",
       "      <td>3</td>\n",
       "      <td>...</td>\n",
       "      <td>6</td>\n",
       "      <td>4</td>\n",
       "      <td>0</td>\n",
       "      <td>0</td>\n",
       "      <td>0</td>\n",
       "      <td>0</td>\n",
       "      <td>0</td>\n",
       "      <td>0</td>\n",
       "      <td>0</td>\n",
       "      <td>241</td>\n",
       "    </tr>\n",
       "    <tr>\n",
       "      <th>1104</th>\n",
       "      <td>1986</td>\n",
       "      <td>Graduation</td>\n",
       "      <td>Married</td>\n",
       "      <td>23477.0</td>\n",
       "      <td>1</td>\n",
       "      <td>0</td>\n",
       "      <td>21-10-2013</td>\n",
       "      <td>39</td>\n",
       "      <td>3</td>\n",
       "      <td>3</td>\n",
       "      <td>...</td>\n",
       "      <td>4</td>\n",
       "      <td>8</td>\n",
       "      <td>0</td>\n",
       "      <td>0</td>\n",
       "      <td>0</td>\n",
       "      <td>0</td>\n",
       "      <td>0</td>\n",
       "      <td>0</td>\n",
       "      <td>0</td>\n",
       "      <td>147</td>\n",
       "    </tr>\n",
       "    <tr>\n",
       "      <th>1105</th>\n",
       "      <td>1975</td>\n",
       "      <td>Master</td>\n",
       "      <td>Married</td>\n",
       "      <td>37368.0</td>\n",
       "      <td>1</td>\n",
       "      <td>0</td>\n",
       "      <td>16-12-2013</td>\n",
       "      <td>4</td>\n",
       "      <td>1</td>\n",
       "      <td>1</td>\n",
       "      <td>...</td>\n",
       "      <td>2</td>\n",
       "      <td>6</td>\n",
       "      <td>1</td>\n",
       "      <td>0</td>\n",
       "      <td>0</td>\n",
       "      <td>0</td>\n",
       "      <td>0</td>\n",
       "      <td>0</td>\n",
       "      <td>0</td>\n",
       "      <td>30</td>\n",
       "    </tr>\n",
       "    <tr>\n",
       "      <th>1106</th>\n",
       "      <td>1974</td>\n",
       "      <td>Graduation</td>\n",
       "      <td>Divorced</td>\n",
       "      <td>53034.0</td>\n",
       "      <td>1</td>\n",
       "      <td>1</td>\n",
       "      <td>30-05-2013</td>\n",
       "      <td>30</td>\n",
       "      <td>8</td>\n",
       "      <td>6</td>\n",
       "      <td>...</td>\n",
       "      <td>7</td>\n",
       "      <td>8</td>\n",
       "      <td>0</td>\n",
       "      <td>0</td>\n",
       "      <td>0</td>\n",
       "      <td>0</td>\n",
       "      <td>0</td>\n",
       "      <td>0</td>\n",
       "      <td>0</td>\n",
       "      <td>447</td>\n",
       "    </tr>\n",
       "    <tr>\n",
       "      <th>1107</th>\n",
       "      <td>1952</td>\n",
       "      <td>PhD</td>\n",
       "      <td>Divorced</td>\n",
       "      <td>46610.0</td>\n",
       "      <td>0</td>\n",
       "      <td>2</td>\n",
       "      <td>29-10-2012</td>\n",
       "      <td>8</td>\n",
       "      <td>6</td>\n",
       "      <td>4</td>\n",
       "      <td>...</td>\n",
       "      <td>6</td>\n",
       "      <td>6</td>\n",
       "      <td>0</td>\n",
       "      <td>0</td>\n",
       "      <td>0</td>\n",
       "      <td>0</td>\n",
       "      <td>0</td>\n",
       "      <td>0</td>\n",
       "      <td>1</td>\n",
       "      <td>302</td>\n",
       "    </tr>\n",
       "  </tbody>\n",
       "</table>\n",
       "<p>1108 rows × 21 columns</p>\n",
       "</div>"
      ],
      "text/plain": [
       "      Year_Birth   Education Marital_Status   Income  Kidhome  Teenhome  \\\n",
       "id                                                                        \n",
       "0           1974      Master       Together  46014.0        1         1   \n",
       "1           1962  Graduation         Single  76624.0        0         1   \n",
       "2           1951  Graduation        Married  75903.0        0         1   \n",
       "3           1974       Basic        Married  18393.0        1         0   \n",
       "4           1946         PhD       Together  64014.0        2         1   \n",
       "...          ...         ...            ...      ...      ...       ...   \n",
       "1103        1956  Graduation       Together  46097.0        0         1   \n",
       "1104        1986  Graduation        Married  23477.0        1         0   \n",
       "1105        1975      Master        Married  37368.0        1         0   \n",
       "1106        1974  Graduation       Divorced  53034.0        1         1   \n",
       "1107        1952         PhD       Divorced  46610.0        0         2   \n",
       "\n",
       "     Dt_Customer  Recency  NumDealsPurchases  NumWebPurchases  ...  \\\n",
       "id                                                             ...   \n",
       "0     21-01-2013       21                 10                7  ...   \n",
       "1     24-05-2014       68                  1                5  ...   \n",
       "2     08-04-2013       50                  2                6  ...   \n",
       "3     29-03-2014        2                  2                3  ...   \n",
       "4     10-06-2014       56                  7                8  ...   \n",
       "...          ...      ...                ...              ...  ...   \n",
       "1103  31-03-2013       11                  5                3  ...   \n",
       "1104  21-10-2013       39                  3                3  ...   \n",
       "1105  16-12-2013        4                  1                1  ...   \n",
       "1106  30-05-2013       30                  8                6  ...   \n",
       "1107  29-10-2012        8                  6                4  ...   \n",
       "\n",
       "      NumStorePurchases  NumWebVisitsMonth  AcceptedCmp3  AcceptedCmp4  \\\n",
       "id                                                                       \n",
       "0                     8                  7             0             0   \n",
       "1                     7                  1             1             0   \n",
       "2                     9                  3             0             0   \n",
       "3                     3                  8             0             0   \n",
       "4                     5                  7             0             0   \n",
       "...                 ...                ...           ...           ...   \n",
       "1103                  6                  4             0             0   \n",
       "1104                  4                  8             0             0   \n",
       "1105                  2                  6             1             0   \n",
       "1106                  7                  8             0             0   \n",
       "1107                  6                  6             0             0   \n",
       "\n",
       "      AcceptedCmp5  AcceptedCmp1  AcceptedCmp2  Complain  Response  target  \n",
       "id                                                                          \n",
       "0                0             0             0         0         0     541  \n",
       "1                0             0             0         0         0     899  \n",
       "2                0             0             0         0         0     901  \n",
       "3                0             0             0         0         0      50  \n",
       "4                0             1             0         0         0     444  \n",
       "...            ...           ...           ...       ...       ...     ...  \n",
       "1103             0             0             0         0         0     241  \n",
       "1104             0             0             0         0         0     147  \n",
       "1105             0             0             0         0         0      30  \n",
       "1106             0             0             0         0         0     447  \n",
       "1107             0             0             0         0         1     302  \n",
       "\n",
       "[1108 rows x 21 columns]"
      ]
     },
     "execution_count": 3,
     "metadata": {},
     "output_type": "execute_result"
    }
   ],
   "source": [
    "train_data = pd.read_csv('data/train.csv', index_col='id')\n",
    "test_data = pd.read_csv('data/test.csv', index_col='id')\n",
    "train_data"
   ]
  },
  {
   "cell_type": "code",
   "execution_count": 4,
   "id": "ff7e236f-dc3b-4287-abc0-26221501996b",
   "metadata": {
    "pycharm": {
     "name": "#%%\n"
    }
   },
   "outputs": [],
   "source": [
    "def seperate_datetime(dataframe):\n",
    "    year = []\n",
    "    month = []\n",
    "    day = []\n",
    "\n",
    "    for date in dataframe.Dt_Customer:\n",
    "        year_point, month_point, day_point = date.split('-') # - 기준으로 string을 나누고 list로 만듦 ex) '2016-04-01' -> ['2016', '04', '01']\n",
    "        year.append(int(year_point))\n",
    "        month.append(int(month_point))\n",
    "        day.append(int(day_point))\n",
    "    return year, month, day\n",
    "\n",
    "day, month, year = seperate_datetime(train_data)\n",
    "    \n",
    "train_data['year'] = year\n",
    "train_data['month'] = month\n",
    "train_data['day'] = day\n",
    "\n",
    "_, _, test_year = seperate_datetime(test_data)\n",
    "test_data['year'] = test_year"
   ]
  },
  {
   "cell_type": "code",
   "execution_count": 5,
   "id": "58a8a376-ec8e-45ea-a044-f9e58440ea06",
   "metadata": {
    "pycharm": {
     "name": "#%%\n"
    }
   },
   "outputs": [
    {
     "name": "stderr",
     "output_type": "stream",
     "text": [
      "/tmp/ipykernel_534/1904963444.py:7: SettingWithCopyWarning: \n",
      "A value is trying to be set on a copy of a slice from a DataFrame.\n",
      "Try using .loc[row_indexer,col_indexer] = value instead\n",
      "\n",
      "See the caveats in the documentation: https://pandas.pydata.org/pandas-docs/stable/user_guide/indexing.html#returning-a-view-versus-a-copy\n",
      "  train_corr[train_corr.columns] = scaler.fit_transform(train_corr[train_corr.columns])\n"
     ]
    },
    {
     "data": {
      "text/plain": [
       "Text(0.5, 1.0, 'Correlation between features')"
      ]
     },
     "execution_count": 5,
     "metadata": {},
     "output_type": "execute_result"
    },
    {
     "data": {
      "image/png": "[encoded data removed]",
      "text/plain": [
       "<Figure size 864x720 with 2 Axes>"
      ]
     },
     "metadata": {
      "needs_background": "light"
     },
     "output_type": "display_data"
    }
   ],
   "source": [
    "quantitative = ['Year_Birth', 'Income', 'year',\t'month', 'day', 'Recency', 'NumDealsPurchases', 'NumWebPurchases',\n",
    "       'NumCatalogPurchases', 'NumStorePurchases', 'NumWebVisitsMonth']\n",
    "quantitative.append('target')\n",
    "\n",
    "train_corr = train_data[quantitative]\n",
    "scaler= MinMaxScaler() \n",
    "train_corr[train_corr.columns] = scaler.fit_transform(train_corr[train_corr.columns])\n",
    "corr28 = train_corr.corr(method= 'pearson')\n",
    "\n",
    "plt.figure(figsize=(12,10))\n",
    "sns.heatmap(data = corr28, annot=True, fmt = '.2f', linewidths=.5, cmap='Blues')\n",
    "plt.title('Correlation between features', fontsize=30)"
   ]
  },
  {
   "cell_type": "code",
   "execution_count": 6,
   "id": "6edef710-bdaf-4526-9e5f-17cb404e7c14",
   "metadata": {
    "pycharm": {
     "name": "#%%\n"
    }
   },
   "outputs": [
    {
     "data": {
      "text/html": [
       "<style type=\"text/css\">\n",
       "#T_4fbc8_row0_col0 {\n",
       "  background-color: #fde725;\n",
       "  color: #000000;\n",
       "}\n",
       "#T_4fbc8_row1_col0 {\n",
       "  background-color: #a5db36;\n",
       "  color: #000000;\n",
       "}\n",
       "#T_4fbc8_row2_col0 {\n",
       "  background-color: #9dd93b;\n",
       "  color: #000000;\n",
       "}\n",
       "#T_4fbc8_row3_col0 {\n",
       "  background-color: #70cf57;\n",
       "  color: #000000;\n",
       "}\n",
       "#T_4fbc8_row4_col0 {\n",
       "  background-color: #40bd72;\n",
       "  color: #f1f1f1;\n",
       "}\n",
       "#T_4fbc8_row5_col0 {\n",
       "  background-color: #2e6f8e;\n",
       "  color: #f1f1f1;\n",
       "}\n",
       "#T_4fbc8_row6_col0 {\n",
       "  background-color: #2e6d8e;\n",
       "  color: #f1f1f1;\n",
       "}\n",
       "#T_4fbc8_row7_col0 {\n",
       "  background-color: #306a8e;\n",
       "  color: #f1f1f1;\n",
       "}\n",
       "#T_4fbc8_row8_col0 {\n",
       "  background-color: #375a8c;\n",
       "  color: #f1f1f1;\n",
       "}\n",
       "#T_4fbc8_row9_col0 {\n",
       "  background-color: #3d4e8a;\n",
       "  color: #f1f1f1;\n",
       "}\n",
       "#T_4fbc8_row10_col0 {\n",
       "  background-color: #3e4989;\n",
       "  color: #f1f1f1;\n",
       "}\n",
       "#T_4fbc8_row11_col0 {\n",
       "  background-color: #440154;\n",
       "  color: #f1f1f1;\n",
       "}\n",
       "</style>\n",
       "<table id=\"T_4fbc8\">\n",
       "  <thead>\n",
       "    <tr>\n",
       "      <th class=\"blank level0\" >&nbsp;</th>\n",
       "      <th id=\"T_4fbc8_level0_col0\" class=\"col_heading level0 col0\" >target</th>\n",
       "    </tr>\n",
       "  </thead>\n",
       "  <tbody>\n",
       "    <tr>\n",
       "      <th id=\"T_4fbc8_level0_row0\" class=\"row_heading level0 row0\" >target</th>\n",
       "      <td id=\"T_4fbc8_row0_col0\" class=\"data row0 col0\" >1.000000</td>\n",
       "    </tr>\n",
       "    <tr>\n",
       "      <th id=\"T_4fbc8_level0_row1\" class=\"row_heading level0 row1\" >NumCatalogPurchases</th>\n",
       "      <td id=\"T_4fbc8_row1_col0\" class=\"data row1 col0\" >0.798065</td>\n",
       "    </tr>\n",
       "    <tr>\n",
       "      <th id=\"T_4fbc8_level0_row2\" class=\"row_heading level0 row2\" >Income</th>\n",
       "      <td id=\"T_4fbc8_row2_col0\" class=\"data row2 col0\" >0.784084</td>\n",
       "    </tr>\n",
       "    <tr>\n",
       "      <th id=\"T_4fbc8_level0_row3\" class=\"row_heading level0 row3\" >NumStorePurchases</th>\n",
       "      <td id=\"T_4fbc8_row3_col0\" class=\"data row3 col0\" >0.677785</td>\n",
       "    </tr>\n",
       "    <tr>\n",
       "      <th id=\"T_4fbc8_level0_row4\" class=\"row_heading level0 row4\" >NumWebPurchases</th>\n",
       "      <td id=\"T_4fbc8_row4_col0\" class=\"data row4 col0\" >0.546082</td>\n",
       "    </tr>\n",
       "    <tr>\n",
       "      <th id=\"T_4fbc8_level0_row5\" class=\"row_heading level0 row5\" >Recency</th>\n",
       "      <td id=\"T_4fbc8_row5_col0\" class=\"data row5 col0\" >0.050873</td>\n",
       "    </tr>\n",
       "    <tr>\n",
       "      <th id=\"T_4fbc8_level0_row6\" class=\"row_heading level0 row6\" >month</th>\n",
       "      <td id=\"T_4fbc8_row6_col0\" class=\"data row6 col0\" >0.037649</td>\n",
       "    </tr>\n",
       "    <tr>\n",
       "      <th id=\"T_4fbc8_level0_row7\" class=\"row_heading level0 row7\" >day</th>\n",
       "      <td id=\"T_4fbc8_row7_col0\" class=\"data row7 col0\" >0.018917</td>\n",
       "    </tr>\n",
       "    <tr>\n",
       "      <th id=\"T_4fbc8_level0_row8\" class=\"row_heading level0 row8\" >NumDealsPurchases</th>\n",
       "      <td id=\"T_4fbc8_row8_col0\" class=\"data row8 col0\" >-0.072802</td>\n",
       "    </tr>\n",
       "    <tr>\n",
       "      <th id=\"T_4fbc8_level0_row9\" class=\"row_heading level0 row9\" >Year_Birth</th>\n",
       "      <td id=\"T_4fbc8_row9_col0\" class=\"data row9 col0\" >-0.136035</td>\n",
       "    </tr>\n",
       "    <tr>\n",
       "      <th id=\"T_4fbc8_level0_row10\" class=\"row_heading level0 row10\" >year</th>\n",
       "      <td id=\"T_4fbc8_row10_col0\" class=\"data row10 col0\" >-0.159404</td>\n",
       "    </tr>\n",
       "    <tr>\n",
       "      <th id=\"T_4fbc8_level0_row11\" class=\"row_heading level0 row11\" >NumWebVisitsMonth</th>\n",
       "      <td id=\"T_4fbc8_row11_col0\" class=\"data row11 col0\" >-0.488252</td>\n",
       "    </tr>\n",
       "  </tbody>\n",
       "</table>\n"
      ],
      "text/plain": [
       "<pandas.io.formats.style.Styler at 0x7fa795b96ee0>"
      ]
     },
     "execution_count": 6,
     "metadata": {},
     "output_type": "execute_result"
    }
   ],
   "source": [
    "s28 = corr28.unstack()\n",
    "df_temp28 = pd.DataFrame(s28['target'].sort_values(ascending=False), columns=['target'])\n",
    "df_temp28.style.background_gradient(cmap='viridis')"
   ]
  },
  {
   "cell_type": "code",
   "execution_count": 7,
   "id": "6f09f905-0ece-46c0-914a-44290e8411b1",
   "metadata": {
    "pycharm": {
     "name": "#%%\n"
    }
   },
   "outputs": [],
   "source": [
    "filtered_train_data = train_data[['NumCatalogPurchases','Income','NumStorePurchases','NumWebPurchases', 'NumWebVisitsMonth','year', 'target']].to_numpy()\n",
    "filtered_test_data = test_data[['NumCatalogPurchases','Income','NumStorePurchases','NumWebPurchases','NumWebVisitsMonth','year']].to_numpy()"
   ]
  },
  {
   "cell_type": "code",
   "execution_count": 8,
   "id": "94a1337c-c4f5-415d-8206-459e37844067",
   "metadata": {
    "pycharm": {
     "name": "#%%\n"
    }
   },
   "outputs": [],
   "source": [
    "scaler= MinMaxScaler()\n",
    "train_x = scaler.fit_transform(filtered_train_data[:,:-1])\n",
    "train_y = filtered_train_data[:,-1]\n",
    "target_x = scaler.transform(filtered_test_data) "
   ]
  },
  {
   "cell_type": "code",
   "execution_count": 9,
   "id": "1140bbfa-c9cb-4438-a39d-bc9bc91c9e70",
   "metadata": {
    "pycharm": {
     "name": "#%%\n"
    }
   },
   "outputs": [
    {
     "name": "stdout",
     "output_type": "stream",
     "text": [
      "tarin_x:\n",
      "[[0.09090909 0.27562598 0.61538462 0.25925926 0.35       0.5       ]\n",
      " [0.90909091 0.46614426 0.53846154 0.18518519 0.05       1.        ]\n",
      " [0.54545455 0.46165672 0.69230769 0.22222222 0.15       0.5       ]\n",
      " ...\n",
      " [0.         0.22181282 0.15384615 0.03703704 0.3        0.5       ]\n",
      " [0.09090909 0.31931884 0.53846154 0.22222222 0.4        0.5       ]\n",
      " [0.09090909 0.27933552 0.46153846 0.14814815 0.3        0.        ]]\n",
      "target_x:\n",
      "[[0.27272727 0.34734575 0.61538462 0.14814815 0.2        0.5       ]\n",
      " [0.36363636 0.39845146 0.76923077 0.07407407 0.05       0.5       ]\n",
      " [0.27272727 0.33425657 1.         0.18518519 0.2        0.5       ]\n",
      " ...\n",
      " [0.09090909 0.20082531 0.23076923 0.03703704 0.2        0.5       ]\n",
      " [0.45454545 0.45512769 0.38461538 0.07407407 0.25       0.5       ]\n",
      " [0.18181818 0.2761488  0.15384615 0.11111111 0.4        0.        ]]\n"
     ]
    }
   ],
   "source": [
    "print('tarin_x:')\n",
    "print(train_x)\n",
    "print('target_x:')\n",
    "print(target_x)"
   ]
  },
  {
   "cell_type": "code",
   "execution_count": 10,
   "id": "1a5d1867-2fb0-4ea2-bb30-1b6ddd5e6f85",
   "metadata": {
    "pycharm": {
     "name": "#%%\n"
    }
   },
   "outputs": [],
   "source": [
    "shuffle_idx = sample(range(0, len(train_x)), len(train_x))\n",
    "\n",
    "shuffled_train_x = np.full((len(train_x),6),[0,0,0,0,0,0],dtype=np.float64)\n",
    "shuffled_train_y = np.zeros(len(train_y),dtype=np.float64)\n",
    "\n",
    "for i in range(len(train_x)):\n",
    "    shuffled_train_x[i] = train_x[shuffle_idx[i]]\n",
    "    shuffled_train_y[i] = train_y[shuffle_idx[i]]"
   ]
  },
  {
   "cell_type": "code",
   "execution_count": 11,
   "id": "af374359-ee0c-4c47-be79-5ee09496e387",
   "metadata": {
    "pycharm": {
     "name": "#%%\n"
    }
   },
   "outputs": [],
   "source": [
    "valid_idx = int(len(train_x) // 1.22)\n",
    "test_idx = int(len(train_x) // 1.1)"
   ]
  },
  {
   "cell_type": "code",
   "execution_count": 12,
   "id": "97e56f9e-ee3d-4d66-997a-edd95e50a38c",
   "metadata": {
    "pycharm": {
     "name": "#%%\n"
    }
   },
   "outputs": [
    {
     "name": "stdout",
     "output_type": "stream",
     "text": [
      "x_train: (908, 6)\n",
      "x_val: (99, 6)\n",
      "x_test: (101, 6)\n"
     ]
    }
   ],
   "source": [
    "x_train = shuffled_train_x[:valid_idx]\n",
    "y_train = shuffled_train_y[:valid_idx]\n",
    "x_val = shuffled_train_x[valid_idx:test_idx]\n",
    "y_val = shuffled_train_y[valid_idx:test_idx]\n",
    "x_test = shuffled_train_x[test_idx:]\n",
    "y_test = shuffled_train_y[test_idx:]\n",
    "\n",
    "print(f'x_train: {x_train.shape}')\n",
    "print(f'x_val: {x_val.shape}')\n",
    "print(f'x_test: {x_test.shape}')"
   ]
  },
  {
   "cell_type": "code",
   "execution_count": 13,
   "id": "addac021-977d-4c80-a3d7-ad1ce7a16fdc",
   "metadata": {
    "pycharm": {
     "name": "#%%\n"
    }
   },
   "outputs": [],
   "source": [
    "train_dataset = TensorDataset(torch.FloatTensor(x_train), torch.FloatTensor(y_train))\n",
    "valid_dataset = TensorDataset(torch.FloatTensor(x_val), torch.FloatTensor(y_val))\n",
    "test_dataset = TensorDataset(torch.FloatTensor(x_test), torch.FloatTensor(y_test))\n",
    "\n",
    "batch_size = 1\n",
    "\n",
    "train_data_loader = DataLoader(train_dataset, batch_size=batch_size, shuffle=True, pin_memory=True)\n",
    "val_data_loader = DataLoader(valid_dataset, batch_size=1, shuffle=True, pin_memory=True)\n",
    "test_data_loader = DataLoader(test_dataset, batch_size=1, shuffle=True, pin_memory=True)"
   ]
  },
  {
   "cell_type": "code",
   "execution_count": 14,
   "id": "848fd583-ad17-499f-9395-7797c52c5b29",
   "metadata": {
    "pycharm": {
     "name": "#%%\n"
    }
   },
   "outputs": [],
   "source": [
    "class Regression_model(nn.Module):\n",
    "    def __init__(self):\n",
    "        super().__init__()\n",
    "        self.linear_relu_stack = nn.Sequential(\n",
    "            nn.Linear(6, 64),\n",
    "            # nn.BatchNorm1d(32),\n",
    "            nn.ReLU(),\n",
    "            nn.Dropout(0.2),\n",
    "            nn.Linear(64,32),\n",
    "            # nn.BatchNorm1d(16),\n",
    "            nn.ReLU(),\n",
    "            nn.Dropout(0.2),\n",
    "            nn.Linear(32,16),\n",
    "            # nn.BatchNorm1d(8),\n",
    "            nn.ReLU(),\n",
    "            nn.Dropout(0.2),\n",
    "            nn.Linear(16,1),\n",
    "            # nn.ReLU(),\n",
    "            # nn.Dropout(0.2),\n",
    "            # nn.Linear(16,1),\n",
    "        )\n",
    "        \n",
    "    def forward(self, x):\n",
    "        logits = self.linear_relu_stack(x)\n",
    "        return logits"
   ]
  },
  {
   "cell_type": "code",
   "execution_count": 15,
   "id": "37781246-7def-4d63-a215-44be80ae886d",
   "metadata": {
    "pycharm": {
     "name": "#%%\n"
    }
   },
   "outputs": [],
   "source": [
    "model = Regression_model()\n",
    "loss_fn = nn.L1Loss()\n",
    "optimizer = torch.optim.Adam(model.parameters(), lr=1e-4)\n",
    "# scheduler = torch.optim.lr_scheduler.LambdaLR(optimizer=optimizer,\n",
    "#                                               lr_lambda=lambda epoch: 0.99 ** epoch,\n",
    "#                                               last_epoch=-1,\n",
    "#                                               verbose=False)\n",
    "scheduler = torch.optim.lr_scheduler.CosineAnnealingLR(optimizer, T_max=20, eta_min=0)"
   ]
  },
  {
   "cell_type": "code",
   "execution_count": 16,
   "id": "783af35b-5140-4f31-a82c-5ffc1d3d6714",
   "metadata": {
    "pycharm": {
     "name": "#%%\n"
    }
   },
   "outputs": [],
   "source": [
    "def train_val_loop(model, loss_fn, optimizer, train_loader, valid_loader, current_epoch, test=False):\n",
    "    if not test:\n",
    "        train_loss = 0\n",
    "        train_size = len(train_loader.dataset)\n",
    "        model.train()\n",
    "        for batch, (X, y) in enumerate(train_loader):\n",
    "            # X, y = X.to('cuda'), y.to('cuda')\n",
    "            pred = model(X)\n",
    "            loss = loss_fn(pred, y)\n",
    "\n",
    "            optimizer.zero_grad()\n",
    "            loss.backward()\n",
    "            optimizer.step()\n",
    "            train_loss += loss.item()\n",
    "\n",
    "            # if batch % 100 == 0:\n",
    "            #     loss, current = loss.item(), batch * len(X)\n",
    "            #     print(f'loss: {loss:>7f}  [{current:>5d}/{train_size:>5d}]')\n",
    "        \n",
    "        train_loss /= train_size / batch_size\n",
    "        if current_epoch % 10 == 0:\n",
    "            print(f'Avg Train Loss: {train_loss:>8f}')\n",
    "\n",
    "    val_size = len(valid_loader.dataset)\n",
    "    num_batches = len(valid_loader)\n",
    "    val_loss = 0\n",
    "    model.eval()\n",
    "    with torch.no_grad():\n",
    "        for X, y in valid_loader:\n",
    "            # X, y = X.to('cuda'), y.to('cuda')\n",
    "            pred = model(X)\n",
    "            val_loss += loss_fn(pred, y).item()\n",
    "    \n",
    "    val_loss /= num_batches\n",
    "    if not test:\n",
    "        if current_epoch % 10 == 0:\n",
    "            print(f'Val Loss: {val_loss:>8f}\\n')\n",
    "            \n",
    "    if not test:\n",
    "        return train_loss, val_loss\n",
    "    else:\n",
    "        return val_loss"
   ]
  },
  {
   "cell_type": "code",
   "execution_count": 17,
   "id": "aca54cdc-0857-48ea-bdd1-edcc81020354",
   "metadata": {
    "pycharm": {
     "name": "#%%\n"
    }
   },
   "outputs": [
    {
     "data": {
      "application/vnd.jupyter.widget-view+json": {
       "model_id": "391928a234384563a467e90fe419b0db",
       "version_major": 2,
       "version_minor": 0
      },
      "text/plain": [
       "  0%|          | 0/300 [00:00<?, ?it/s]"
      ]
     },
     "metadata": {},
     "output_type": "display_data"
    },
    {
     "name": "stderr",
     "output_type": "stream",
     "text": [
      "/usr/local/lib/python3.8/dist-packages/torch/nn/modules/loss.py:96: UserWarning: Using a target size (torch.Size([1])) that is different to the input size (torch.Size([1, 1])). This will likely lead to incorrect results due to broadcasting. Please ensure they have the same size.\n",
      "  return F.l1_loss(input, target, reduction=self.reduction)\n"
     ]
    },
    {
     "name": "stdout",
     "output_type": "stream",
     "text": [
      "Epochs 10\n",
      "-------------------------------------\n",
      "Avg Train Loss: 393.732109\n",
      "Val Loss: 396.217863\n",
      "\n",
      "Epochs 20\n",
      "-------------------------------------\n",
      "Avg Train Loss: 371.295101\n",
      "Val Loss: 378.484769\n",
      "\n",
      "Epochs 30\n",
      "-------------------------------------\n",
      "Avg Train Loss: 354.954966\n",
      "Val Loss: 364.150555\n",
      "\n",
      "Epochs 40\n",
      "-------------------------------------\n",
      "Avg Train Loss: 269.591995\n",
      "Val Loss: 270.301126\n",
      "\n",
      "Epochs 50\n",
      "-------------------------------------\n",
      "Avg Train Loss: 209.187764\n",
      "Val Loss: 217.588167\n",
      "\n",
      "Epochs 60\n",
      "-------------------------------------\n",
      "Avg Train Loss: 217.429205\n",
      "Val Loss: 214.020486\n",
      "\n",
      "Epochs 70\n",
      "-------------------------------------\n",
      "Avg Train Loss: 210.590073\n",
      "Val Loss: 212.575738\n",
      "\n",
      "Epochs 80\n",
      "-------------------------------------\n",
      "Avg Train Loss: 210.158849\n",
      "Val Loss: 206.563942\n",
      "\n",
      "Epochs 90\n",
      "-------------------------------------\n",
      "Avg Train Loss: 203.516468\n",
      "Val Loss: 203.733039\n",
      "\n",
      "Epochs 100\n",
      "-------------------------------------\n",
      "Avg Train Loss: 202.263759\n",
      "Val Loss: 203.335427\n",
      "\n",
      "Epochs 110\n",
      "-------------------------------------\n",
      "Avg Train Loss: 202.176246\n",
      "Val Loss: 203.113994\n",
      "\n",
      "Epochs 120\n",
      "-------------------------------------\n",
      "Avg Train Loss: 202.867259\n",
      "Val Loss: 200.301719\n",
      "\n",
      "Epochs 130\n",
      "-------------------------------------\n",
      "Avg Train Loss: 196.939229\n",
      "Val Loss: 199.826851\n",
      "\n",
      "Epochs 140\n",
      "-------------------------------------\n",
      "Avg Train Loss: 207.382703\n",
      "Val Loss: 198.525272\n",
      "\n",
      "Epochs 150\n",
      "-------------------------------------\n",
      "Avg Train Loss: 198.567265\n",
      "Val Loss: 198.511496\n",
      "\n",
      "Epochs 160\n",
      "-------------------------------------\n",
      "Avg Train Loss: 194.464885\n",
      "Val Loss: 197.227528\n",
      "\n",
      "Epochs 170\n",
      "-------------------------------------\n",
      "Avg Train Loss: 193.025081\n",
      "Val Loss: 196.923007\n",
      "\n",
      "Epochs 180\n",
      "-------------------------------------\n",
      "Avg Train Loss: 195.620679\n",
      "Val Loss: 196.542193\n",
      "\n",
      "Epochs 190\n",
      "-------------------------------------\n",
      "Avg Train Loss: 200.481002\n",
      "Val Loss: 195.841787\n",
      "\n",
      "Epochs 200\n",
      "-------------------------------------\n",
      "Avg Train Loss: 191.806849\n",
      "Val Loss: 196.582464\n",
      "\n",
      "Epochs 210\n",
      "-------------------------------------\n",
      "Avg Train Loss: 192.124423\n",
      "Val Loss: 194.826343\n",
      "\n",
      "Epochs 220\n",
      "-------------------------------------\n",
      "Avg Train Loss: 195.648257\n",
      "Val Loss: 194.591164\n",
      "\n",
      "Epochs 230\n",
      "-------------------------------------\n",
      "Avg Train Loss: 188.764319\n",
      "Val Loss: 194.649637\n",
      "\n",
      "Epochs 240\n",
      "-------------------------------------\n",
      "Avg Train Loss: 190.675847\n",
      "Val Loss: 194.600045\n",
      "\n",
      "Epochs 250\n",
      "-------------------------------------\n",
      "Avg Train Loss: 199.823147\n",
      "Val Loss: 193.902674\n",
      "\n",
      "Epochs 260\n",
      "-------------------------------------\n",
      "Avg Train Loss: 197.081401\n",
      "Val Loss: 194.205550\n",
      "\n",
      "Epochs 270\n",
      "-------------------------------------\n",
      "Avg Train Loss: 199.776466\n",
      "Val Loss: 193.985180\n",
      "\n",
      "Epochs 280\n",
      "-------------------------------------\n",
      "Avg Train Loss: 185.746313\n",
      "Val Loss: 192.650271\n",
      "\n",
      "Epochs 290\n",
      "-------------------------------------\n",
      "Avg Train Loss: 186.852128\n",
      "Val Loss: 191.972979\n",
      "\n",
      "Epochs 300\n",
      "-------------------------------------\n",
      "Avg Train Loss: 190.698252\n",
      "Val Loss: 192.778960\n",
      "\n",
      "Training Done!\n"
     ]
    }
   ],
   "source": [
    "history = {'train_loss' : [], 'val_loss' : []}\n",
    "\n",
    "epochs = 300\n",
    "for t in tqdm(range(epochs)):\n",
    "    if (t+1) % 10 == 0:\n",
    "        print(f'Epochs {t+1}\\n-------------------------------------')\n",
    "    t, v = train_val_loop(model, loss_fn, optimizer, train_data_loader, val_data_loader, t+1)\n",
    "    scheduler.step()\n",
    "    history['train_loss'].append(t)\n",
    "    history['val_loss'].append(v)\n",
    "print('Training Done!')"
   ]
  },
  {
   "cell_type": "code",
   "execution_count": 18,
   "id": "6fbdfb82-2b7c-48ff-a4c7-52eb6be408bf",
   "metadata": {
    "pycharm": {
     "name": "#%%\n"
    }
   },
   "outputs": [],
   "source": [
    "test_loss = train_val_loop(model, loss_fn, optimizer, None, test_data_loader, 0, test=True)"
   ]
  },
  {
   "cell_type": "code",
   "execution_count": 19,
   "id": "60480301-d450-4ba7-a106-86c8df543838",
   "metadata": {
    "pycharm": {
     "name": "#%%\n"
    }
   },
   "outputs": [
    {
     "name": "stdout",
     "output_type": "stream",
     "text": [
      "Test loss : 168.902404\n"
     ]
    }
   ],
   "source": [
    "print(f'Test loss : {test_loss:>8f}')"
   ]
  },
  {
   "cell_type": "code",
   "execution_count": 20,
   "id": "f2c276a6-5a01-4212-9d25-eb8bca92bd61",
   "metadata": {
    "pycharm": {
     "name": "#%%\n"
    }
   },
   "outputs": [],
   "source": [
    "tl = int(test_loss)"
   ]
  },
  {
   "cell_type": "code",
   "execution_count": 21,
   "id": "5378f77d-e070-465c-883b-9feb03ebfcd9",
   "metadata": {
    "pycharm": {
     "name": "#%%\n"
    }
   },
   "outputs": [
    {
     "data": {
      "image/png": "[encoded data removed]",
      "text/plain": [
       "<Figure size 432x288 with 1 Axes>"
      ]
     },
     "metadata": {
      "needs_background": "light"
     },
     "output_type": "display_data"
    }
   ],
   "source": [
    "plt.plot(history['train_loss'])\n",
    "plt.plot(history['val_loss'])\n",
    "plt.title('loss')\n",
    "plt.ylabel('Loss')\n",
    "plt.xlabel('Epoch')\n",
    "plt.legend(['Training', 'Validation'], loc=0)\n",
    "plt.savefig(summit_name+'_'+str(tl))"
   ]
  },
  {
   "cell_type": "code",
   "execution_count": 22,
   "id": "157225d3-ce7d-448b-9b56-d76028610fea",
   "metadata": {
    "pycharm": {
     "name": "#%%\n"
    }
   },
   "outputs": [],
   "source": [
    "target_dataset = TensorDataset(torch.FloatTensor(target_x))\n",
    "target_data_loader = DataLoader(target_dataset, batch_size=1, shuffle=False)\n",
    "predicted_target = []"
   ]
  },
  {
   "cell_type": "code",
   "execution_count": 23,
   "id": "f869ac76-c8fb-45f2-bef4-65e6e6d5b04a",
   "metadata": {
    "pycharm": {
     "name": "#%%\n"
    }
   },
   "outputs": [
    {
     "data": {
      "application/vnd.jupyter.widget-view+json": {
       "model_id": "fcaa95d8212b4197ae4a9aa8f668d43c",
       "version_major": 2,
       "version_minor": 0
      },
      "text/plain": [
       "  0%|          | 0/1108 [00:00<?, ?it/s]"
      ]
     },
     "metadata": {},
     "output_type": "display_data"
    }
   ],
   "source": [
    "with torch.no_grad():\n",
    "        for X in tqdm(target_data_loader):\n",
    "            pred = model(X[0])\n",
    "            predicted_target.append(pred.item())"
   ]
  },
  {
   "cell_type": "code",
   "execution_count": 24,
   "id": "76779faa-4432-44eb-94b9-c6ee789b3f36",
   "metadata": {
    "pycharm": {
     "name": "#%%\n"
    }
   },
   "outputs": [],
   "source": [
    "summit = pd.DataFrame(predicted_target, columns=['target'])\n",
    "summit.index.name = 'id'\n",
    "summit['target'] = summit['target'].astype('int')"
   ]
  },
  {
   "cell_type": "code",
   "execution_count": 25,
   "id": "0dffd868-70e3-4a88-a2f7-13e9ea4f43fa",
   "metadata": {
    "pycharm": {
     "name": "#%%\n"
    }
   },
   "outputs": [
    {
     "data": {
      "text/html": [
       "<div>\n",
       "<style scoped>\n",
       "    .dataframe tbody tr th:only-of-type {\n",
       "        vertical-align: middle;\n",
       "    }\n",
       "\n",
       "    .dataframe tbody tr th {\n",
       "        vertical-align: top;\n",
       "    }\n",
       "\n",
       "    .dataframe thead th {\n",
       "        text-align: right;\n",
       "    }\n",
       "</style>\n",
       "<table border=\"1\" class=\"dataframe\">\n",
       "  <thead>\n",
       "    <tr style=\"text-align: right;\">\n",
       "      <th></th>\n",
       "      <th>target</th>\n",
       "    </tr>\n",
       "    <tr>\n",
       "      <th>id</th>\n",
       "      <th></th>\n",
       "    </tr>\n",
       "  </thead>\n",
       "  <tbody>\n",
       "    <tr>\n",
       "      <th>0</th>\n",
       "      <td>664</td>\n",
       "    </tr>\n",
       "    <tr>\n",
       "      <th>1</th>\n",
       "      <td>889</td>\n",
       "    </tr>\n",
       "    <tr>\n",
       "      <th>2</th>\n",
       "      <td>917</td>\n",
       "    </tr>\n",
       "    <tr>\n",
       "      <th>3</th>\n",
       "      <td>1138</td>\n",
       "    </tr>\n",
       "    <tr>\n",
       "      <th>4</th>\n",
       "      <td>1470</td>\n",
       "    </tr>\n",
       "    <tr>\n",
       "      <th>...</th>\n",
       "      <td>...</td>\n",
       "    </tr>\n",
       "    <tr>\n",
       "      <th>1103</th>\n",
       "      <td>62</td>\n",
       "    </tr>\n",
       "    <tr>\n",
       "      <th>1104</th>\n",
       "      <td>36</td>\n",
       "    </tr>\n",
       "    <tr>\n",
       "      <th>1105</th>\n",
       "      <td>79</td>\n",
       "    </tr>\n",
       "    <tr>\n",
       "      <th>1106</th>\n",
       "      <td>737</td>\n",
       "    </tr>\n",
       "    <tr>\n",
       "      <th>1107</th>\n",
       "      <td>234</td>\n",
       "    </tr>\n",
       "  </tbody>\n",
       "</table>\n",
       "<p>1108 rows × 1 columns</p>\n",
       "</div>"
      ],
      "text/plain": [
       "      target\n",
       "id          \n",
       "0        664\n",
       "1        889\n",
       "2        917\n",
       "3       1138\n",
       "4       1470\n",
       "...      ...\n",
       "1103      62\n",
       "1104      36\n",
       "1105      79\n",
       "1106     737\n",
       "1107     234\n",
       "\n",
       "[1108 rows x 1 columns]"
      ]
     },
     "execution_count": 25,
     "metadata": {},
     "output_type": "execute_result"
    }
   ],
   "source": [
    "summit"
   ]
  },
  {
   "cell_type": "code",
   "execution_count": 26,
   "id": "bb0c046e-df21-498e-a34b-7d75f52aaa08",
   "metadata": {
    "pycharm": {
     "name": "#%%\n"
    }
   },
   "outputs": [],
   "source": [
    "summit.to_csv(f'{summit_name}_{tl}.csv')"
   ]
  }
 ],
 "metadata": {
  "kernelspec": {
   "display_name": "Python 3 (ipykernel)",
   "language": "python",
   "name": "python3"
  },
  "language_info": {
   "codemirror_mode": {
    "name": "ipython",
    "version": 3
   },
   "file_extension": ".py",
   "mimetype": "text/x-python",
   "name": "python",
   "nbconvert_exporter": "python",
   "pygments_lexer": "ipython3",
   "version": "3.8.10"
  }
 },
 "nbformat": 4,
 "nbformat_minor": 5
}